{
  "nbformat": 4,
  "nbformat_minor": 0,
  "metadata": {
    "colab": {
      "name": "test_hdaf_filter_module.ipynb",
      "provenance": [],
      "collapsed_sections": [],
      "toc_visible": true
    },
    "kernelspec": {
      "name": "python3",
      "display_name": "Python 3"
    },
    "language_info": {
      "name": "python"
    }
  },
  "cells": [
    {
      "cell_type": "markdown",
      "source": [
        "# This notebook depict how to run the hdaf_filter module in Google Colab"
      ],
      "metadata": {
        "id": "BGRA-wqhFiFc"
      }
    },
    {
      "cell_type": "markdown",
      "source": [
        "# Instalation\n",
        "This section allows to install the hdaf_filter (Tested with Python version 3.7 from Colab)\n",
        "\n",
        "It has not been tested with early versions of Python."
      ],
      "metadata": {
        "id": "kFggPhNXGHMF"
      }
    },
    {
      "cell_type": "code",
      "execution_count": null,
      "metadata": {
        "id": "7lNIEOaiFhL8"
      },
      "outputs": [],
      "source": [
        "!pip install hdaf-filter==0.1.1"
      ]
    },
    {
      "cell_type": "markdown",
      "source": [
        "# Loading Dependencies"
      ],
      "metadata": {
        "id": "frtsR7A9kg2U"
      }
    },
    {
      "cell_type": "markdown",
      "source": [
        "Here we load the required dependencies to run the current colab"
      ],
      "metadata": {
        "id": "T1pLtVcLkwGc"
      }
    },
    {
      "cell_type": "code",
      "source": [
        "from hdaf_filter import hdaf, input_output\n",
        "import matplotlib.pyplot as plt\n",
        "from mpl_toolkits.axes_grid1 import make_axes_locatable\n",
        "\n",
        "def plot_result(input_img, output_img, title_):\n",
        "  fig, axs = plt.subplots(1, 2,figsize=(15,15))  \n",
        "  img1 = axs[0].imshow(input_img, cmap='gray')\n",
        "  axs[0].set_title('Input Image',size=20) \n",
        "  divider = make_axes_locatable(axs[0])\n",
        "  cax = divider.append_axes(\"right\", size=\"5%\", pad=0.05)\n",
        "  plt.colorbar(img1, cax=cax) \n",
        "  \n",
        "  img2 = axs[1].imshow(output_img, cmap='gray')\n",
        "  axs[1].set_title(title_,size=20) \n",
        "  divider = make_axes_locatable(axs[1])\n",
        "  cax = divider.append_axes(\"right\", size=\"5%\", pad=0.05)\n",
        "  plt.colorbar(img2, cax=cax) \n",
        "  fig.tight_layout()"
      ],
      "metadata": {
        "id": "V9eSL0XjGxAH"
      },
      "execution_count": null,
      "outputs": []
    },
    {
      "cell_type": "markdown",
      "source": [
        "# Sample running the hdaf filter"
      ],
      "metadata": {
        "id": "SKj8WkQqlDzC"
      }
    },
    {
      "cell_type": "markdown",
      "source": [
        "## Reading the image and displaying it"
      ],
      "metadata": {
        "id": "ZpowlpgwnmsY"
      }
    },
    {
      "cell_type": "code",
      "source": [
        "!wget https://github.com/paul-hernandez-herrera/hdaf_filtering/raw/03e58207ecc8c011b66325dc1e60912dd372ead8/test_data/2d/Cells_01.tif\n",
        "img = input_output.imread('/content/Cells_01.tif')\n",
        "plt.imshow(img, cmap='gray')"
      ],
      "metadata": {
        "id": "p-2q43HOHO6l"
      },
      "execution_count": null,
      "outputs": []
    },
    {
      "cell_type": "markdown",
      "source": [
        "## Creating the constructor for the filter"
      ],
      "metadata": {
        "id": "rX4-YqDp2kQK"
      }
    },
    {
      "cell_type": "code",
      "source": [
        "obj = hdaf.filt(img)"
      ],
      "metadata": {
        "id": "DVVBRPnG2mvd"
      },
      "execution_count": null,
      "outputs": []
    },
    {
      "cell_type": "markdown",
      "source": [
        "## Applying the low-pass filter"
      ],
      "metadata": {
        "id": "XCegVfeDumxd"
      }
    },
    {
      "cell_type": "code",
      "source": [
        "output = obj.apply_filter(\"low_pass\", 1.0)\n",
        "plot_result(img, output, 'filter output low_pass_r_1')\n",
        "\n",
        "output = obj.apply_filter(\"low_pass\", 1.5)\n",
        "plot_result(img, output, 'filter output low_pass_r_1.5')\n",
        "\n",
        "output = obj.apply_filter(\"low_pass\", 3)\n",
        "plot_result(img, output, 'filter output low_pass_r_3')"
      ],
      "metadata": {
        "id": "-5UaWBJupdwp"
      },
      "execution_count": null,
      "outputs": []
    },
    {
      "cell_type": "markdown",
      "source": [
        "## Applying the high-pass filter"
      ],
      "metadata": {
        "id": "HgZfWwGu2Bzv"
      }
    },
    {
      "cell_type": "code",
      "source": [
        "filter_id = 'high_pass'; \n",
        "\n",
        "radius = 1\n",
        "plot_result(img, obj.apply_filter(filter_id, radius), 'filter output ' + input_output.get_file_name_output('',filter_id,radius))\n",
        "\n",
        "radius = 1.5\n",
        "plot_result(img, obj.apply_filter(filter_id, radius), 'filter output ' + input_output.get_file_name_output('',filter_id,radius))\n",
        "\n",
        "radius = 3\n",
        "plot_result(img, obj.apply_filter(filter_id, radius), 'filter output ' + input_output.get_file_name_output('',filter_id,radius))"
      ],
      "metadata": {
        "id": "5rClh_9y25mh"
      },
      "execution_count": null,
      "outputs": []
    },
    {
      "cell_type": "markdown",
      "source": [
        "## Applying band-pass filter"
      ],
      "metadata": {
        "id": "ltOdLkHC462h"
      }
    },
    {
      "cell_type": "code",
      "source": [
        "filter_id = 'band_pass'; \n",
        "\n",
        "radius = [1, 5]\n",
        "plot_result(img, obj.apply_filter(filter_id, radius), 'filter output ' + input_output.get_file_name_output('',filter_id,radius))\n",
        "\n",
        "radius = [1.5, 5]\n",
        "plot_result(img, obj.apply_filter(filter_id, radius), 'filter output ' + input_output.get_file_name_output('',filter_id,radius))\n",
        "\n",
        "radius = [3,5]\n",
        "plot_result(img, obj.apply_filter(filter_id, radius), 'filter output ' + input_output.get_file_name_output('',filter_id,radius))"
      ],
      "metadata": {
        "id": "rJyl0j754_JF"
      },
      "execution_count": null,
      "outputs": []
    },
    {
      "cell_type": "markdown",
      "source": [
        "## Applying Laplacian filter"
      ],
      "metadata": {
        "id": "3aOzdBwJ4k3e"
      }
    },
    {
      "cell_type": "code",
      "source": [
        "filter_id = 'laplacian'; \n",
        "\n",
        "radius = 1\n",
        "plot_result(img, obj.apply_filter(filter_id, radius), 'filter output ' + input_output.get_file_name_output('',filter_id,radius))\n",
        "\n",
        "radius = 1.5\n",
        "plot_result(img, obj.apply_filter(filter_id, radius), 'filter output ' + input_output.get_file_name_output('',filter_id,radius))\n",
        "\n",
        "radius = 3\n",
        "plot_result(img, obj.apply_filter(filter_id, radius), 'filter output ' + input_output.get_file_name_output('',filter_id,radius))"
      ],
      "metadata": {
        "id": "JHOO8nq43jpy"
      },
      "execution_count": null,
      "outputs": []
    },
    {
      "cell_type": "markdown",
      "source": [
        "## Applying laplacian multiscale"
      ],
      "metadata": {
        "id": "VDlxta1K5NvL"
      }
    },
    {
      "cell_type": "code",
      "source": [
        "filter_id = 'laplacian_multiscale'; \n",
        "\n",
        "radius = [1,1.5, 3]\n",
        "plot_result(img, obj.apply_filter(filter_id, radius), 'filter output ' + input_output.get_file_name_output('',filter_id,radius))\n",
        "\n",
        "radius = [2,4,6,8,10]\n",
        "plot_result(img, obj.apply_filter(filter_id, radius), 'filter output ' + input_output.get_file_name_output('',filter_id,radius))\n"
      ],
      "metadata": {
        "id": "xX9xKPay4x_q"
      },
      "execution_count": null,
      "outputs": []
    }
  ]
}